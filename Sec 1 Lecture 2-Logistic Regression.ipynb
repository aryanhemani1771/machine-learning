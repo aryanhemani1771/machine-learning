{
 "cells": [
  {
   "cell_type": "markdown",
   "id": "9bb42782",
   "metadata": {},
   "source": [
    "## Aryan Hemani UCLA ID: 706305360"
   ]
  },
  {
   "cell_type": "markdown",
   "id": "07c34ec6",
   "metadata": {},
   "source": [
    "# 1.) Pull in Data and Convert ot Monthly"
   ]
  },
  {
   "cell_type": "code",
   "execution_count": 1,
   "id": "b48f7d57",
   "metadata": {},
   "outputs": [],
   "source": [
    "import yfinance as yf\n",
    "import pandas as pd\n",
    "import numpy as np\n",
    "import matplotlib.pyplot as plt"
   ]
  },
  {
   "cell_type": "code",
   "execution_count": 2,
   "id": "4fa973aa",
   "metadata": {},
   "outputs": [
    {
     "name": "stdout",
     "output_type": "stream",
     "text": [
      "[*********************100%%**********************]  1 of 1 completed\n"
     ]
    }
   ],
   "source": [
    "apple_data = yf.download('AAPL')\n",
    "df = apple_data.resample(\"M\").last()[[\"Adj Close\"]]"
   ]
  },
  {
   "cell_type": "markdown",
   "id": "54bbfd02",
   "metadata": {},
   "source": [
    "# 2.) Create columns. \n",
    "  - Current Stock Price, Difference in stock price, Whether it went up or down over the next month,  option premium"
   ]
  },
  {
   "cell_type": "code",
   "execution_count": 6,
   "id": "1f21f202",
   "metadata": {},
   "outputs": [],
   "source": [
    "df[\"Diff\"]=df[\"Adj Close\"].diff().shift(-1)\n",
    "df[\"Target\"] = np.sign(df[\"Diff\"])\n",
    "\n",
    "df[\"Premium\"] = 0.08*df[\"Adj Close\"]\n"
   ]
  },
  {
   "cell_type": "code",
   "execution_count": 7,
   "id": "cb99196b",
   "metadata": {},
   "outputs": [
    {
     "data": {
      "text/html": [
       "<div>\n",
       "<style scoped>\n",
       "    .dataframe tbody tr th:only-of-type {\n",
       "        vertical-align: middle;\n",
       "    }\n",
       "\n",
       "    .dataframe tbody tr th {\n",
       "        vertical-align: top;\n",
       "    }\n",
       "\n",
       "    .dataframe thead th {\n",
       "        text-align: right;\n",
       "    }\n",
       "</style>\n",
       "<table border=\"1\" class=\"dataframe\">\n",
       "  <thead>\n",
       "    <tr style=\"text-align: right;\">\n",
       "      <th></th>\n",
       "      <th>Adj Close</th>\n",
       "      <th>Diff</th>\n",
       "      <th>Target</th>\n",
       "      <th>Premium</th>\n",
       "    </tr>\n",
       "    <tr>\n",
       "      <th>Date</th>\n",
       "      <th></th>\n",
       "      <th></th>\n",
       "      <th></th>\n",
       "      <th></th>\n",
       "    </tr>\n",
       "  </thead>\n",
       "  <tbody>\n",
       "    <tr>\n",
       "      <th>1980-12-31</th>\n",
       "      <td>0.117887</td>\n",
       "      <td>-0.020296</td>\n",
       "      <td>-1.0</td>\n",
       "      <td>0.009431</td>\n",
       "    </tr>\n",
       "    <tr>\n",
       "      <th>1981-01-31</th>\n",
       "      <td>0.097592</td>\n",
       "      <td>-0.006045</td>\n",
       "      <td>-1.0</td>\n",
       "      <td>0.007807</td>\n",
       "    </tr>\n",
       "    <tr>\n",
       "      <th>1981-02-28</th>\n",
       "      <td>0.091546</td>\n",
       "      <td>-0.006909</td>\n",
       "      <td>-1.0</td>\n",
       "      <td>0.007324</td>\n",
       "    </tr>\n",
       "    <tr>\n",
       "      <th>1981-03-31</th>\n",
       "      <td>0.084637</td>\n",
       "      <td>0.013386</td>\n",
       "      <td>1.0</td>\n",
       "      <td>0.006771</td>\n",
       "    </tr>\n",
       "    <tr>\n",
       "      <th>1981-04-30</th>\n",
       "      <td>0.098023</td>\n",
       "      <td>0.016409</td>\n",
       "      <td>1.0</td>\n",
       "      <td>0.007842</td>\n",
       "    </tr>\n",
       "  </tbody>\n",
       "</table>\n",
       "</div>"
      ],
      "text/plain": [
       "            Adj Close      Diff  Target   Premium\n",
       "Date                                             \n",
       "1980-12-31   0.117887 -0.020296    -1.0  0.009431\n",
       "1981-01-31   0.097592 -0.006045    -1.0  0.007807\n",
       "1981-02-28   0.091546 -0.006909    -1.0  0.007324\n",
       "1981-03-31   0.084637  0.013386     1.0  0.006771\n",
       "1981-04-30   0.098023  0.016409     1.0  0.007842"
      ]
     },
     "execution_count": 7,
     "metadata": {},
     "output_type": "execute_result"
    }
   ],
   "source": [
    "df.head()"
   ]
  },
  {
   "cell_type": "markdown",
   "id": "c9987e25",
   "metadata": {},
   "source": [
    "# 3.) Pull in X data, normalize and build a LogReg on column 2"
   ]
  },
  {
   "cell_type": "code",
   "execution_count": null,
   "id": "6beafdc3",
   "metadata": {},
   "outputs": [],
   "source": []
  },
  {
   "cell_type": "code",
   "execution_count": 24,
   "id": "132b4471",
   "metadata": {},
   "outputs": [],
   "source": [
    "import numpy as np\n",
    "import pandas as pd\n",
    "from sklearn.model_selection import train_test_split\n",
    "from sklearn.linear_model import LogisticRegression\n",
    "from sklearn import metrics"
   ]
  },
  {
   "cell_type": "code",
   "execution_count": 25,
   "id": "b21f3c33",
   "metadata": {},
   "outputs": [],
   "source": [
    "X = pd.read_csv(\"Xdata.csv\", index_col=\"Date\", parse_dates=[\"Date\"])"
   ]
  },
  {
   "cell_type": "code",
   "execution_count": 26,
   "id": "7b38602e",
   "metadata": {},
   "outputs": [],
   "source": [
    "y = df.loc[:\"2023-09-30\",\"Target\"].copy()\n",
    "df = df.loc[:\"2023-09-30\",:].copy()"
   ]
  },
  {
   "cell_type": "code",
   "execution_count": 28,
   "id": "f3bc75a2",
   "metadata": {},
   "outputs": [],
   "source": [
    "logreg = LogisticRegression()\n",
    "logreg.fit(X,y)\n",
    "y_pred = logreg.predict(X)\n",
    "\n"
   ]
  },
  {
   "cell_type": "code",
   "execution_count": 29,
   "id": "09084eb5",
   "metadata": {},
   "outputs": [
    {
     "data": {
      "text/html": [
       "<div>\n",
       "<style scoped>\n",
       "    .dataframe tbody tr th:only-of-type {\n",
       "        vertical-align: middle;\n",
       "    }\n",
       "\n",
       "    .dataframe tbody tr th {\n",
       "        vertical-align: top;\n",
       "    }\n",
       "\n",
       "    .dataframe thead th {\n",
       "        text-align: right;\n",
       "    }\n",
       "</style>\n",
       "<table border=\"1\" class=\"dataframe\">\n",
       "  <thead>\n",
       "    <tr style=\"text-align: right;\">\n",
       "      <th></th>\n",
       "      <th>Adj Close</th>\n",
       "      <th>Diff</th>\n",
       "      <th>Target</th>\n",
       "      <th>Premium</th>\n",
       "    </tr>\n",
       "    <tr>\n",
       "      <th>Date</th>\n",
       "      <th></th>\n",
       "      <th></th>\n",
       "      <th></th>\n",
       "      <th></th>\n",
       "    </tr>\n",
       "  </thead>\n",
       "  <tbody>\n",
       "    <tr>\n",
       "      <th>1980-12-31</th>\n",
       "      <td>0.117887</td>\n",
       "      <td>-0.020296</td>\n",
       "      <td>-1.0</td>\n",
       "      <td>0.009431</td>\n",
       "    </tr>\n",
       "    <tr>\n",
       "      <th>1981-01-31</th>\n",
       "      <td>0.097592</td>\n",
       "      <td>-0.006045</td>\n",
       "      <td>-1.0</td>\n",
       "      <td>0.007807</td>\n",
       "    </tr>\n",
       "    <tr>\n",
       "      <th>1981-02-28</th>\n",
       "      <td>0.091546</td>\n",
       "      <td>-0.006909</td>\n",
       "      <td>-1.0</td>\n",
       "      <td>0.007324</td>\n",
       "    </tr>\n",
       "    <tr>\n",
       "      <th>1981-03-31</th>\n",
       "      <td>0.084637</td>\n",
       "      <td>0.013386</td>\n",
       "      <td>1.0</td>\n",
       "      <td>0.006771</td>\n",
       "    </tr>\n",
       "    <tr>\n",
       "      <th>1981-04-30</th>\n",
       "      <td>0.098023</td>\n",
       "      <td>0.016409</td>\n",
       "      <td>1.0</td>\n",
       "      <td>0.007842</td>\n",
       "    </tr>\n",
       "    <tr>\n",
       "      <th>...</th>\n",
       "      <td>...</td>\n",
       "      <td>...</td>\n",
       "      <td>...</td>\n",
       "      <td>...</td>\n",
       "    </tr>\n",
       "    <tr>\n",
       "      <th>2023-05-31</th>\n",
       "      <td>176.778076</td>\n",
       "      <td>16.675476</td>\n",
       "      <td>1.0</td>\n",
       "      <td>14.142246</td>\n",
       "    </tr>\n",
       "    <tr>\n",
       "      <th>2023-06-30</th>\n",
       "      <td>193.453552</td>\n",
       "      <td>2.473404</td>\n",
       "      <td>1.0</td>\n",
       "      <td>15.476284</td>\n",
       "    </tr>\n",
       "    <tr>\n",
       "      <th>2023-07-31</th>\n",
       "      <td>195.926956</td>\n",
       "      <td>-8.304138</td>\n",
       "      <td>-1.0</td>\n",
       "      <td>15.674156</td>\n",
       "    </tr>\n",
       "    <tr>\n",
       "      <th>2023-08-31</th>\n",
       "      <td>187.622818</td>\n",
       "      <td>-16.638077</td>\n",
       "      <td>-1.0</td>\n",
       "      <td>15.009825</td>\n",
       "    </tr>\n",
       "    <tr>\n",
       "      <th>2023-09-30</th>\n",
       "      <td>170.984741</td>\n",
       "      <td>-0.439423</td>\n",
       "      <td>-1.0</td>\n",
       "      <td>13.678779</td>\n",
       "    </tr>\n",
       "  </tbody>\n",
       "</table>\n",
       "<p>514 rows × 4 columns</p>\n",
       "</div>"
      ],
      "text/plain": [
       "             Adj Close       Diff  Target    Premium\n",
       "Date                                                \n",
       "1980-12-31    0.117887  -0.020296    -1.0   0.009431\n",
       "1981-01-31    0.097592  -0.006045    -1.0   0.007807\n",
       "1981-02-28    0.091546  -0.006909    -1.0   0.007324\n",
       "1981-03-31    0.084637   0.013386     1.0   0.006771\n",
       "1981-04-30    0.098023   0.016409     1.0   0.007842\n",
       "...                ...        ...     ...        ...\n",
       "2023-05-31  176.778076  16.675476     1.0  14.142246\n",
       "2023-06-30  193.453552   2.473404     1.0  15.476284\n",
       "2023-07-31  195.926956  -8.304138    -1.0  15.674156\n",
       "2023-08-31  187.622818 -16.638077    -1.0  15.009825\n",
       "2023-09-30  170.984741  -0.439423    -1.0  13.678779\n",
       "\n",
       "[514 rows x 4 columns]"
      ]
     },
     "execution_count": 29,
     "metadata": {},
     "output_type": "execute_result"
    }
   ],
   "source": [
    "df"
   ]
  },
  {
   "cell_type": "code",
   "execution_count": null,
   "id": "348e49a6",
   "metadata": {},
   "outputs": [],
   "source": []
  },
  {
   "cell_type": "code",
   "execution_count": null,
   "id": "5307eab4",
   "metadata": {},
   "outputs": [],
   "source": []
  },
  {
   "cell_type": "code",
   "execution_count": null,
   "id": "dd48f4b5",
   "metadata": {},
   "outputs": [],
   "source": []
  },
  {
   "cell_type": "markdown",
   "id": "2c2c792d",
   "metadata": {},
   "source": [
    "# 4.) Add columns, prediction and profits."
   ]
  },
  {
   "cell_type": "code",
   "execution_count": 30,
   "id": "8009466a",
   "metadata": {},
   "outputs": [],
   "source": [
    "df[\"predictions\"] = y_pred"
   ]
  },
  {
   "cell_type": "code",
   "execution_count": 39,
   "id": "4aae021b",
   "metadata": {},
   "outputs": [],
   "source": [
    "df[\"Profits\"] = 0.\n",
    "# true Positives\n",
    "df.loc[(df[\"predictions\"] ==  1) & (df[\"Target\"] == 1), \"Profits\"] = df[\"Premium\"]\n",
    "\n",
    "# False Positives\n",
    "df.loc[(df[\"predictions\"] ==  1) & (df[\"Target\"] == -1), \"Profits\"] = 100*df[\"Diff\"] + df[\"Premium\"]\n"
   ]
  },
  {
   "cell_type": "code",
   "execution_count": 40,
   "id": "1d41211f",
   "metadata": {},
   "outputs": [
    {
     "data": {
      "text/html": [
       "<div>\n",
       "<style scoped>\n",
       "    .dataframe tbody tr th:only-of-type {\n",
       "        vertical-align: middle;\n",
       "    }\n",
       "\n",
       "    .dataframe tbody tr th {\n",
       "        vertical-align: top;\n",
       "    }\n",
       "\n",
       "    .dataframe thead th {\n",
       "        text-align: right;\n",
       "    }\n",
       "</style>\n",
       "<table border=\"1\" class=\"dataframe\">\n",
       "  <thead>\n",
       "    <tr style=\"text-align: right;\">\n",
       "      <th></th>\n",
       "      <th>Adj Close</th>\n",
       "      <th>Diff</th>\n",
       "      <th>Target</th>\n",
       "      <th>Premium</th>\n",
       "      <th>predictions</th>\n",
       "      <th>Profits</th>\n",
       "    </tr>\n",
       "    <tr>\n",
       "      <th>Date</th>\n",
       "      <th></th>\n",
       "      <th></th>\n",
       "      <th></th>\n",
       "      <th></th>\n",
       "      <th></th>\n",
       "      <th></th>\n",
       "    </tr>\n",
       "  </thead>\n",
       "  <tbody>\n",
       "    <tr>\n",
       "      <th>1980-12-31</th>\n",
       "      <td>0.117887</td>\n",
       "      <td>-0.020296</td>\n",
       "      <td>-1.0</td>\n",
       "      <td>0.009431</td>\n",
       "      <td>-1.0</td>\n",
       "      <td>0.000000</td>\n",
       "    </tr>\n",
       "    <tr>\n",
       "      <th>1981-01-31</th>\n",
       "      <td>0.097592</td>\n",
       "      <td>-0.006045</td>\n",
       "      <td>-1.0</td>\n",
       "      <td>0.007807</td>\n",
       "      <td>-1.0</td>\n",
       "      <td>0.000000</td>\n",
       "    </tr>\n",
       "    <tr>\n",
       "      <th>1981-02-28</th>\n",
       "      <td>0.091546</td>\n",
       "      <td>-0.006909</td>\n",
       "      <td>-1.0</td>\n",
       "      <td>0.007324</td>\n",
       "      <td>-1.0</td>\n",
       "      <td>0.000000</td>\n",
       "    </tr>\n",
       "    <tr>\n",
       "      <th>1981-03-31</th>\n",
       "      <td>0.084637</td>\n",
       "      <td>0.013386</td>\n",
       "      <td>1.0</td>\n",
       "      <td>0.006771</td>\n",
       "      <td>1.0</td>\n",
       "      <td>0.006771</td>\n",
       "    </tr>\n",
       "    <tr>\n",
       "      <th>1981-04-30</th>\n",
       "      <td>0.098023</td>\n",
       "      <td>0.016409</td>\n",
       "      <td>1.0</td>\n",
       "      <td>0.007842</td>\n",
       "      <td>1.0</td>\n",
       "      <td>0.007842</td>\n",
       "    </tr>\n",
       "    <tr>\n",
       "      <th>...</th>\n",
       "      <td>...</td>\n",
       "      <td>...</td>\n",
       "      <td>...</td>\n",
       "      <td>...</td>\n",
       "      <td>...</td>\n",
       "      <td>...</td>\n",
       "    </tr>\n",
       "    <tr>\n",
       "      <th>2023-05-31</th>\n",
       "      <td>176.778076</td>\n",
       "      <td>16.675476</td>\n",
       "      <td>1.0</td>\n",
       "      <td>14.142246</td>\n",
       "      <td>1.0</td>\n",
       "      <td>14.142246</td>\n",
       "    </tr>\n",
       "    <tr>\n",
       "      <th>2023-06-30</th>\n",
       "      <td>193.453552</td>\n",
       "      <td>2.473404</td>\n",
       "      <td>1.0</td>\n",
       "      <td>15.476284</td>\n",
       "      <td>1.0</td>\n",
       "      <td>15.476284</td>\n",
       "    </tr>\n",
       "    <tr>\n",
       "      <th>2023-07-31</th>\n",
       "      <td>195.926956</td>\n",
       "      <td>-8.304138</td>\n",
       "      <td>-1.0</td>\n",
       "      <td>15.674156</td>\n",
       "      <td>-1.0</td>\n",
       "      <td>0.000000</td>\n",
       "    </tr>\n",
       "    <tr>\n",
       "      <th>2023-08-31</th>\n",
       "      <td>187.622818</td>\n",
       "      <td>-16.638077</td>\n",
       "      <td>-1.0</td>\n",
       "      <td>15.009825</td>\n",
       "      <td>-1.0</td>\n",
       "      <td>0.000000</td>\n",
       "    </tr>\n",
       "    <tr>\n",
       "      <th>2023-09-30</th>\n",
       "      <td>170.984741</td>\n",
       "      <td>-0.439423</td>\n",
       "      <td>-1.0</td>\n",
       "      <td>13.678779</td>\n",
       "      <td>-1.0</td>\n",
       "      <td>0.000000</td>\n",
       "    </tr>\n",
       "  </tbody>\n",
       "</table>\n",
       "<p>514 rows × 6 columns</p>\n",
       "</div>"
      ],
      "text/plain": [
       "             Adj Close       Diff  Target    Premium  predictions    Profits\n",
       "Date                                                                        \n",
       "1980-12-31    0.117887  -0.020296    -1.0   0.009431         -1.0   0.000000\n",
       "1981-01-31    0.097592  -0.006045    -1.0   0.007807         -1.0   0.000000\n",
       "1981-02-28    0.091546  -0.006909    -1.0   0.007324         -1.0   0.000000\n",
       "1981-03-31    0.084637   0.013386     1.0   0.006771          1.0   0.006771\n",
       "1981-04-30    0.098023   0.016409     1.0   0.007842          1.0   0.007842\n",
       "...                ...        ...     ...        ...          ...        ...\n",
       "2023-05-31  176.778076  16.675476     1.0  14.142246          1.0  14.142246\n",
       "2023-06-30  193.453552   2.473404     1.0  15.476284          1.0  15.476284\n",
       "2023-07-31  195.926956  -8.304138    -1.0  15.674156         -1.0   0.000000\n",
       "2023-08-31  187.622818 -16.638077    -1.0  15.009825         -1.0   0.000000\n",
       "2023-09-30  170.984741  -0.439423    -1.0  13.678779         -1.0   0.000000\n",
       "\n",
       "[514 rows x 6 columns]"
      ]
     },
     "execution_count": 40,
     "metadata": {},
     "output_type": "execute_result"
    }
   ],
   "source": [
    "df"
   ]
  },
  {
   "cell_type": "code",
   "execution_count": null,
   "id": "7c8a051f",
   "metadata": {},
   "outputs": [],
   "source": []
  },
  {
   "cell_type": "markdown",
   "id": "e379d80c",
   "metadata": {},
   "source": [
    "# 5.) Plot profits over time"
   ]
  },
  {
   "cell_type": "code",
   "execution_count": 43,
   "id": "bc16f4dc",
   "metadata": {},
   "outputs": [
    {
     "data": {
      "image/png": "[encoded data removed]",
      "text/plain": [
       "<Figure size 640x480 with 1 Axes>"
      ]
     },
     "metadata": {},
     "output_type": "display_data"
    }
   ],
   "source": [
    "plt.plot(np.cumsum(df[\"Profits\"]))\n",
    "plt.show()"
   ]
  },
  {
   "cell_type": "code",
   "execution_count": null,
   "id": "99340635",
   "metadata": {},
   "outputs": [],
   "source": []
  },
  {
   "cell_type": "markdown",
   "id": "55845b16",
   "metadata": {},
   "source": [
    "# 5.5)\n",
    "\n",
    "Studying quantitative economics, with skills in machine learning, econometrics, and Python, can help in the crypto space by enabling you to analyze data, manage risks, develop trading algorithms, value cryptocurrencies, forecast market trends, conduct research, and potentially work in quantitative fund management.\n",
    "\n"
   ]
  },
  {
   "cell_type": "code",
   "execution_count": null,
   "id": "69143043",
   "metadata": {},
   "outputs": [],
   "source": []
  },
  {
   "cell_type": "code",
   "execution_count": null,
   "id": "2350323c",
   "metadata": {},
   "outputs": [],
   "source": []
  },
  {
   "cell_type": "markdown",
   "id": "5c970b3f",
   "metadata": {},
   "source": [
    "# 6.) Create a loop that stores total profits over time"
   ]
  },
  {
   "cell_type": "code",
   "execution_count": null,
   "id": "abab021c",
   "metadata": {},
   "outputs": [],
   "source": []
  },
  {
   "cell_type": "markdown",
   "id": "30f8738c",
   "metadata": {},
   "source": [
    "# 7.) What is the optimal threshold and plot the total profits for this model."
   ]
  },
  {
   "cell_type": "code",
   "execution_count": null,
   "id": "aba0f592",
   "metadata": {},
   "outputs": [],
   "source": []
  }
 ],
 "metadata": {
  "kernelspec": {
   "display_name": "Python 3 (ipykernel)",
   "language": "python",
   "name": "python3"
  },
  "language_info": {
   "codemirror_mode": {
    "name": "ipython",
    "version": 3
   },
   "file_extension": ".py",
   "mimetype": "text/x-python",
   "name": "python",
   "nbconvert_exporter": "python",
   "pygments_lexer": "ipython3",
   "version": "3.10.9"
  }
 },
 "nbformat": 4,
 "nbformat_minor": 5
}
